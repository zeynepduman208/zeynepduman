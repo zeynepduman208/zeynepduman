{
  "cells": [
    {
      "cell_type": "markdown",
      "metadata": {
        "id": "view-in-github",
        "colab_type": "text"
      },
      "source": [
        "<a href=\"https://colab.research.google.com/github/zeynepduman208/zeynepduman/blob/main/pyramid_zeynepduman_elifaskin.ipynb\" target=\"_parent\"><img src=\"https://colab.research.google.com/assets/colab-badge.svg\" alt=\"Open In Colab\"/></a>"
      ]
    },
    {
      "cell_type": "code",
      "execution_count": null,
      "metadata": {
        "id": "mCFs-KrBfnGR"
      },
      "outputs": [],
      "source": [
        "#This game is designed by Zeynep İrem Duman and Elif Aşkın.However,the code was written induvidually.\n",
        "import random\n",
        "def pyramid_zeynepduman_elifaskin():\n",
        "  print ('WELCOME TO PYRAMID GAME!')\n",
        "  print ('This game is inspired by the food chain in its design.')\n",
        "  print ('RULES:We have 3 character.Lion,Elephant and Crocodile.Lion eats crocodile.Crocodile eats elephant.Elephant eats lion.Law of the nature 😜')\n",
        "  print('The player who leads 2 points wins the game.Good Luck!')\n",
        "  choices = [\"lion\", \"elephant\", \"crocodile\"]\n",
        "  user_score = 0\n",
        "  computer_score = 0\n",
        "\n",
        "  while True:\n",
        "     user_choice = input(\"Lion, Elephant or Crocodile? (If you don't want to play write 'exit'): \")\n",
        "     if user_choice == 'exit':\n",
        "            print(\"GAME OVER 😡\")\n",
        "            break\n",
        "\n",
        "     if user_choice not in choices:\n",
        "            print('Invalid choice .Please try again 😯')\n",
        "            continue\n",
        "     #Determine the selection of the computer.\n",
        "     computer_choice = random.choice(choices)\n",
        "\n",
        "     print (f\"Your choice: {user_choice}\")\n",
        "     print(f\"Bilgisayarın seçimi: {computer_choice}\")\n",
        "\n",
        "     #Check the game result\n",
        "     if user_choice == computer_choice:\n",
        "            print(\"Scoreless.Try again 🙂\")\n",
        "     elif (\n",
        "            (user_choice == 'lion' and computer_choice == 'crocodile') or\n",
        "            (user_choice == 'elephant' and computer_choice == 'lion') or\n",
        "            (user_choice == 'crocodile' and computer_choice == 'elephant')\n",
        "        ):\n",
        "            print(\"Congrats! You win 🥳\")\n",
        "            user_score += 1\n",
        "            print(f\"Score: You {user_score} - {computer_score} Computer\")\n",
        "\n",
        "\n",
        "     else:\n",
        "            print(\"Sorry! You lost 🥹\")\n",
        "            computer_score += 1\n",
        "            print(f\"Puan Durumu: You {user_score} - {computer_score} Computer\")\n",
        "\n",
        "     #Check the game. The game is won by the player who leads 2 point wins the game\n",
        "     if abs(user_score - computer_score) == 2:\n",
        "      if user_score > computer_score:\n",
        "               print(\"Game finished.Congrats,you won🥳🥳\")\n",
        "      else:\n",
        "            print(\"Game finished.Sorry,you lost 🥹🥹\")\n",
        "\n",
        "      play_again = input(\"Do you want to play? (yes/no): \")\n",
        "      if play_again.lower() != 'yes':\n",
        "       print(\"Game finished.Good bye!\")\n",
        "       break\n",
        "      else:\n",
        "       print(\"New game will start!\")\n",
        "       user_score = 0\n",
        "       computer_score = 0"
      ]
    },
    {
      "cell_type": "code",
      "execution_count": null,
      "metadata": {
        "colab": {
          "background_save": true,
          "base_uri": "https://localhost:8080/"
        },
        "id": "cvilcDcYfodY",
        "outputId": "15ea61e3-5109-460e-e343-5afc34bdcc54"
      },
      "outputs": [
        {
          "name": "stdout",
          "output_type": "stream",
          "text": [
            "WELCOME TO PYRAMID GAME!\n",
            "This game is inspired by the food chain in its design.\n",
            "RULES:We have 3 character.Lion,Elephant and Crocodile.Lion eats crocodile.Crocodile eats elephant.Elephant eats lion.Law of the nature 😜\n",
            "The player who leads 2 points wins the game.Good Luck!\n",
            "Your choice: lion\n",
            "Bilgisayarın seçimi: crocodile\n",
            "Congrats! You win 🥳\n",
            "Score: You 1 - 0 Computer\n",
            "Your choice: lion\n",
            "Bilgisayarın seçimi: elephant\n",
            "Sorry! You lost 🥹\n",
            "Puan Durumu: You 1 - 1 Computer\n",
            "Your choice: lion\n",
            "Bilgisayarın seçimi: lion\n",
            "Scoreless.Try again 🙂\n",
            "Your choice: lion\n",
            "Bilgisayarın seçimi: crocodile\n",
            "Congrats! You win 🥳\n",
            "Score: You 2 - 1 Computer\n",
            "Your choice: lion\n",
            "Bilgisayarın seçimi: elephant\n",
            "Sorry! You lost 🥹\n",
            "Puan Durumu: You 2 - 2 Computer\n",
            "Your choice: lion\n",
            "Bilgisayarın seçimi: crocodile\n",
            "Congrats! You win 🥳\n",
            "Score: You 3 - 2 Computer\n",
            "Your choice: lion\n",
            "Bilgisayarın seçimi: lion\n",
            "Scoreless.Try again 🙂\n",
            "Your choice: lion\n",
            "Bilgisayarın seçimi: crocodile\n",
            "Congrats! You win 🥳\n",
            "Score: You 4 - 2 Computer\n",
            "Game finished.Congrats,you won🥳🥳\n",
            "New game will start!\n",
            "Your choice: lion\n",
            "Bilgisayarın seçimi: lion\n",
            "Scoreless.Try again 🙂\n",
            "Your choice: lion\n",
            "Bilgisayarın seçimi: crocodile\n",
            "Congrats! You win 🥳\n",
            "Score: You 1 - 0 Computer\n"
          ]
        }
      ],
      "source": [
        "pyramid_zeynepduman_elifaskin()\n"
      ]
    }
  ],
  "metadata": {
    "colab": {
      "provenance": [],
      "authorship_tag": "ABX9TyNJvKx8uzw6DrzmD/gzQ97p",
      "include_colab_link": true
    },
    "kernelspec": {
      "display_name": "Python 3",
      "name": "python3"
    },
    "language_info": {
      "name": "python"
    }
  },
  "nbformat": 4,
  "nbformat_minor": 0
}